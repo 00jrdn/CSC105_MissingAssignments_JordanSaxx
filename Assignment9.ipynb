{
 "cells": [
  {
   "cell_type": "code",
   "execution_count": 2,
   "id": "841982fb",
   "metadata": {},
   "outputs": [],
   "source": [
    "import pandas as pd\n",
    "import matplotlib.pyplot as plt"
   ]
  },
  {
   "cell_type": "code",
   "execution_count": 3,
   "id": "8f2ce918",
   "metadata": {},
   "outputs": [],
   "source": [
    "df = pd.read_csv('data/healthcare_data.csv')"
   ]
  },
  {
   "cell_type": "code",
   "execution_count": 37,
   "id": "3830b276",
   "metadata": {
    "scrolled": true
   },
   "outputs": [
    {
     "data": {
      "text/html": [
       "<div>\n",
       "<style scoped>\n",
       "    .dataframe tbody tr th:only-of-type {\n",
       "        vertical-align: middle;\n",
       "    }\n",
       "\n",
       "    .dataframe tbody tr th {\n",
       "        vertical-align: top;\n",
       "    }\n",
       "\n",
       "    .dataframe thead th {\n",
       "        text-align: right;\n",
       "    }\n",
       "</style>\n",
       "<table border=\"1\" class=\"dataframe\">\n",
       "  <thead>\n",
       "    <tr style=\"text-align: right;\">\n",
       "      <th></th>\n",
       "      <th>Patient_ID</th>\n",
       "      <th>Patient_Name</th>\n",
       "      <th>Age</th>\n",
       "      <th>Gender</th>\n",
       "      <th>Blood_Type</th>\n",
       "      <th>Diagnosis</th>\n",
       "      <th>Treatment_Cost</th>\n",
       "    </tr>\n",
       "  </thead>\n",
       "  <tbody>\n",
       "    <tr>\n",
       "      <th>0</th>\n",
       "      <td>1001</td>\n",
       "      <td>John Smith</td>\n",
       "      <td>45</td>\n",
       "      <td>Male</td>\n",
       "      <td>A+</td>\n",
       "      <td>Hypertension</td>\n",
       "      <td>1200.50</td>\n",
       "    </tr>\n",
       "    <tr>\n",
       "      <th>1</th>\n",
       "      <td>1002</td>\n",
       "      <td>Jane Doe</td>\n",
       "      <td>62</td>\n",
       "      <td>Female</td>\n",
       "      <td>B-</td>\n",
       "      <td>Diabetes</td>\n",
       "      <td>800.75</td>\n",
       "    </tr>\n",
       "    <tr>\n",
       "      <th>2</th>\n",
       "      <td>1003</td>\n",
       "      <td>Robert Johnson</td>\n",
       "      <td>35</td>\n",
       "      <td>Male</td>\n",
       "      <td>O+</td>\n",
       "      <td>Cancer</td>\n",
       "      <td>5500.00</td>\n",
       "    </tr>\n",
       "    <tr>\n",
       "      <th>3</th>\n",
       "      <td>1004</td>\n",
       "      <td>Susan Wilson</td>\n",
       "      <td>78</td>\n",
       "      <td>Female</td>\n",
       "      <td>A-</td>\n",
       "      <td>Heart Disease</td>\n",
       "      <td>2700.25</td>\n",
       "    </tr>\n",
       "    <tr>\n",
       "      <th>4</th>\n",
       "      <td>1005</td>\n",
       "      <td>Michael Brown</td>\n",
       "      <td>55</td>\n",
       "      <td>Male</td>\n",
       "      <td>AB+</td>\n",
       "      <td>Asthma</td>\n",
       "      <td>400.00</td>\n",
       "    </tr>\n",
       "    <tr>\n",
       "      <th>6</th>\n",
       "      <td>1007</td>\n",
       "      <td>James Davis</td>\n",
       "      <td>48</td>\n",
       "      <td>Male</td>\n",
       "      <td>O-</td>\n",
       "      <td>Diabetes</td>\n",
       "      <td>950.25</td>\n",
       "    </tr>\n",
       "    <tr>\n",
       "      <th>8</th>\n",
       "      <td>1009</td>\n",
       "      <td>David Wilson</td>\n",
       "      <td>72</td>\n",
       "      <td>Male</td>\n",
       "      <td>A+</td>\n",
       "      <td>Heart Disease</td>\n",
       "      <td>3200.00</td>\n",
       "    </tr>\n",
       "    <tr>\n",
       "      <th>10</th>\n",
       "      <td>1011</td>\n",
       "      <td>William Lee</td>\n",
       "      <td>33</td>\n",
       "      <td>Male</td>\n",
       "      <td>AB+</td>\n",
       "      <td>Hypertension</td>\n",
       "      <td>1400.25</td>\n",
       "    </tr>\n",
       "    <tr>\n",
       "      <th>12</th>\n",
       "      <td>1013</td>\n",
       "      <td>Richard Taylor</td>\n",
       "      <td>55</td>\n",
       "      <td>Male</td>\n",
       "      <td>O+</td>\n",
       "      <td>Diabetes</td>\n",
       "      <td>900.25</td>\n",
       "    </tr>\n",
       "    <tr>\n",
       "      <th>13</th>\n",
       "      <td>1014</td>\n",
       "      <td>Patricia Martinez</td>\n",
       "      <td>51</td>\n",
       "      <td>Female</td>\n",
       "      <td>A-</td>\n",
       "      <td>Asthma</td>\n",
       "      <td>450.00</td>\n",
       "    </tr>\n",
       "    <tr>\n",
       "      <th>14</th>\n",
       "      <td>1015</td>\n",
       "      <td>Charles Jones</td>\n",
       "      <td>44</td>\n",
       "      <td>Male</td>\n",
       "      <td>AB-</td>\n",
       "      <td>Heart Disease</td>\n",
       "      <td>2400.75</td>\n",
       "    </tr>\n",
       "    <tr>\n",
       "      <th>15</th>\n",
       "      <td>1016</td>\n",
       "      <td>Linda Wilson</td>\n",
       "      <td>62</td>\n",
       "      <td>Female</td>\n",
       "      <td>A+</td>\n",
       "      <td>Cancer</td>\n",
       "      <td>5900.00</td>\n",
       "    </tr>\n",
       "    <tr>\n",
       "      <th>16</th>\n",
       "      <td>1017</td>\n",
       "      <td>Robert Jackson</td>\n",
       "      <td>29</td>\n",
       "      <td>Male</td>\n",
       "      <td>O-</td>\n",
       "      <td>Hypertension</td>\n",
       "      <td>1300.00</td>\n",
       "    </tr>\n",
       "    <tr>\n",
       "      <th>19</th>\n",
       "      <td>1020</td>\n",
       "      <td>Sarah Johnson</td>\n",
       "      <td>49</td>\n",
       "      <td>Female</td>\n",
       "      <td>A-</td>\n",
       "      <td>Asthma</td>\n",
       "      <td>420.75</td>\n",
       "    </tr>\n",
       "    <tr>\n",
       "      <th>20</th>\n",
       "      <td>1021</td>\n",
       "      <td>John Wilson</td>\n",
       "      <td>38</td>\n",
       "      <td>Male</td>\n",
       "      <td>O+</td>\n",
       "      <td>Hypertension</td>\n",
       "      <td>1100.00</td>\n",
       "    </tr>\n",
       "    <tr>\n",
       "      <th>22</th>\n",
       "      <td>1023</td>\n",
       "      <td>Daniel Harris</td>\n",
       "      <td>58</td>\n",
       "      <td>Male</td>\n",
       "      <td>A+</td>\n",
       "      <td>Cancer</td>\n",
       "      <td>6400.00</td>\n",
       "    </tr>\n",
       "    <tr>\n",
       "      <th>23</th>\n",
       "      <td>1024</td>\n",
       "      <td>Elizabeth Smith</td>\n",
       "      <td>41</td>\n",
       "      <td>Female</td>\n",
       "      <td>O-</td>\n",
       "      <td>Heart Disease</td>\n",
       "      <td>3000.75</td>\n",
       "    </tr>\n",
       "    <tr>\n",
       "      <th>24</th>\n",
       "      <td>1025</td>\n",
       "      <td>Matthew Jones</td>\n",
       "      <td>47</td>\n",
       "      <td>Male</td>\n",
       "      <td>AB+</td>\n",
       "      <td>Asthma</td>\n",
       "      <td>430.50</td>\n",
       "    </tr>\n",
       "    <tr>\n",
       "      <th>26</th>\n",
       "      <td>1027</td>\n",
       "      <td>Joseph Brown</td>\n",
       "      <td>60</td>\n",
       "      <td>Male</td>\n",
       "      <td>A-</td>\n",
       "      <td>Diabetes</td>\n",
       "      <td>880.25</td>\n",
       "    </tr>\n",
       "    <tr>\n",
       "      <th>27</th>\n",
       "      <td>1028</td>\n",
       "      <td>Susan Taylor</td>\n",
       "      <td>53</td>\n",
       "      <td>Female</td>\n",
       "      <td>O+</td>\n",
       "      <td>Cancer</td>\n",
       "      <td>6100.50</td>\n",
       "    </tr>\n",
       "    <tr>\n",
       "      <th>28</th>\n",
       "      <td>1029</td>\n",
       "      <td>Christopher Davis</td>\n",
       "      <td>49</td>\n",
       "      <td>Male</td>\n",
       "      <td>AB-</td>\n",
       "      <td>Heart Disease</td>\n",
       "      <td>2900.00</td>\n",
       "    </tr>\n",
       "    <tr>\n",
       "      <th>29</th>\n",
       "      <td>1030</td>\n",
       "      <td>Mary Wilson</td>\n",
       "      <td>56</td>\n",
       "      <td>Female</td>\n",
       "      <td>A+</td>\n",
       "      <td>Asthma</td>\n",
       "      <td>480.00</td>\n",
       "    </tr>\n",
       "    <tr>\n",
       "      <th>31</th>\n",
       "      <td>1032</td>\n",
       "      <td>Linda Martinez</td>\n",
       "      <td>65</td>\n",
       "      <td>Female</td>\n",
       "      <td>B+</td>\n",
       "      <td>Diabetes</td>\n",
       "      <td>850.25</td>\n",
       "    </tr>\n",
       "    <tr>\n",
       "      <th>34</th>\n",
       "      <td>1035</td>\n",
       "      <td>Michael Jackson</td>\n",
       "      <td>35</td>\n",
       "      <td>Male</td>\n",
       "      <td>O+</td>\n",
       "      <td>Asthma</td>\n",
       "      <td>520.00</td>\n",
       "    </tr>\n",
       "    <tr>\n",
       "      <th>36</th>\n",
       "      <td>1037</td>\n",
       "      <td>Robert Wilson</td>\n",
       "      <td>57</td>\n",
       "      <td>Male</td>\n",
       "      <td>B-</td>\n",
       "      <td>Diabetes</td>\n",
       "      <td>920.75</td>\n",
       "    </tr>\n",
       "    <tr>\n",
       "      <th>37</th>\n",
       "      <td>1038</td>\n",
       "      <td>Laura Johnson</td>\n",
       "      <td>43</td>\n",
       "      <td>Female</td>\n",
       "      <td>AB+</td>\n",
       "      <td>Cancer</td>\n",
       "      <td>6700.00</td>\n",
       "    </tr>\n",
       "    <tr>\n",
       "      <th>38</th>\n",
       "      <td>1039</td>\n",
       "      <td>Richard Davis</td>\n",
       "      <td>62</td>\n",
       "      <td>Male</td>\n",
       "      <td>O-</td>\n",
       "      <td>Heart Disease</td>\n",
       "      <td>3300.00</td>\n",
       "    </tr>\n",
       "    <tr>\n",
       "      <th>39</th>\n",
       "      <td>1040</td>\n",
       "      <td>Jennifer Smith</td>\n",
       "      <td>41</td>\n",
       "      <td>Female</td>\n",
       "      <td>AB-</td>\n",
       "      <td>Asthma</td>\n",
       "      <td>470.75</td>\n",
       "    </tr>\n",
       "    <tr>\n",
       "      <th>40</th>\n",
       "      <td>1041</td>\n",
       "      <td>Christopher Martinez</td>\n",
       "      <td>46</td>\n",
       "      <td>Male</td>\n",
       "      <td>A+</td>\n",
       "      <td>Hypertension</td>\n",
       "      <td>1280.50</td>\n",
       "    </tr>\n",
       "    <tr>\n",
       "      <th>41</th>\n",
       "      <td>1042</td>\n",
       "      <td>Linda Jones</td>\n",
       "      <td>51</td>\n",
       "      <td>Female</td>\n",
       "      <td>B+</td>\n",
       "      <td>Diabetes</td>\n",
       "      <td>870.25</td>\n",
       "    </tr>\n",
       "    <tr>\n",
       "      <th>43</th>\n",
       "      <td>1044</td>\n",
       "      <td>Susan Smith</td>\n",
       "      <td>42</td>\n",
       "      <td>Female</td>\n",
       "      <td>A-</td>\n",
       "      <td>Heart Disease</td>\n",
       "      <td>2900.25</td>\n",
       "    </tr>\n",
       "    <tr>\n",
       "      <th>45</th>\n",
       "      <td>1046</td>\n",
       "      <td>Elizabeth Wilson</td>\n",
       "      <td>64</td>\n",
       "      <td>Female</td>\n",
       "      <td>O-</td>\n",
       "      <td>Hypertension</td>\n",
       "      <td>1125.25</td>\n",
       "    </tr>\n",
       "    <tr>\n",
       "      <th>47</th>\n",
       "      <td>1048</td>\n",
       "      <td>Patricia Jackson</td>\n",
       "      <td>39</td>\n",
       "      <td>Female</td>\n",
       "      <td>A+</td>\n",
       "      <td>Cancer</td>\n",
       "      <td>6700.50</td>\n",
       "    </tr>\n",
       "    <tr>\n",
       "      <th>48</th>\n",
       "      <td>1049</td>\n",
       "      <td>Daniel Brown</td>\n",
       "      <td>34</td>\n",
       "      <td>Male</td>\n",
       "      <td>O+</td>\n",
       "      <td>Heart Disease</td>\n",
       "      <td>3100.00</td>\n",
       "    </tr>\n",
       "  </tbody>\n",
       "</table>\n",
       "</div>"
      ],
      "text/plain": [
       "    Patient_ID          Patient_Name  Age  Gender Blood_Type      Diagnosis  \\\n",
       "0         1001            John Smith   45    Male         A+   Hypertension   \n",
       "1         1002              Jane Doe   62  Female         B-       Diabetes   \n",
       "2         1003        Robert Johnson   35    Male         O+         Cancer   \n",
       "3         1004          Susan Wilson   78  Female         A-  Heart Disease   \n",
       "4         1005         Michael Brown   55    Male        AB+         Asthma   \n",
       "6         1007           James Davis   48    Male         O-       Diabetes   \n",
       "8         1009          David Wilson   72    Male         A+  Heart Disease   \n",
       "10        1011           William Lee   33    Male        AB+   Hypertension   \n",
       "12        1013        Richard Taylor   55    Male         O+       Diabetes   \n",
       "13        1014     Patricia Martinez   51  Female         A-         Asthma   \n",
       "14        1015         Charles Jones   44    Male        AB-  Heart Disease   \n",
       "15        1016          Linda Wilson   62  Female         A+         Cancer   \n",
       "16        1017        Robert Jackson   29    Male         O-   Hypertension   \n",
       "19        1020         Sarah Johnson   49  Female         A-         Asthma   \n",
       "20        1021           John Wilson   38    Male         O+   Hypertension   \n",
       "22        1023         Daniel Harris   58    Male         A+         Cancer   \n",
       "23        1024       Elizabeth Smith   41  Female         O-  Heart Disease   \n",
       "24        1025         Matthew Jones   47    Male        AB+         Asthma   \n",
       "26        1027          Joseph Brown   60    Male         A-       Diabetes   \n",
       "27        1028          Susan Taylor   53  Female         O+         Cancer   \n",
       "28        1029     Christopher Davis   49    Male        AB-  Heart Disease   \n",
       "29        1030           Mary Wilson   56  Female         A+         Asthma   \n",
       "31        1032        Linda Martinez   65  Female         B+       Diabetes   \n",
       "34        1035       Michael Jackson   35    Male         O+         Asthma   \n",
       "36        1037         Robert Wilson   57    Male         B-       Diabetes   \n",
       "37        1038         Laura Johnson   43  Female        AB+         Cancer   \n",
       "38        1039         Richard Davis   62    Male         O-  Heart Disease   \n",
       "39        1040        Jennifer Smith   41  Female        AB-         Asthma   \n",
       "40        1041  Christopher Martinez   46    Male         A+   Hypertension   \n",
       "41        1042           Linda Jones   51  Female         B+       Diabetes   \n",
       "43        1044           Susan Smith   42  Female         A-  Heart Disease   \n",
       "45        1046      Elizabeth Wilson   64  Female         O-   Hypertension   \n",
       "47        1048      Patricia Jackson   39  Female         A+         Cancer   \n",
       "48        1049          Daniel Brown   34    Male         O+  Heart Disease   \n",
       "\n",
       "    Treatment_Cost  \n",
       "0          1200.50  \n",
       "1           800.75  \n",
       "2          5500.00  \n",
       "3          2700.25  \n",
       "4           400.00  \n",
       "6           950.25  \n",
       "8          3200.00  \n",
       "10         1400.25  \n",
       "12          900.25  \n",
       "13          450.00  \n",
       "14         2400.75  \n",
       "15         5900.00  \n",
       "16         1300.00  \n",
       "19          420.75  \n",
       "20         1100.00  \n",
       "22         6400.00  \n",
       "23         3000.75  \n",
       "24          430.50  \n",
       "26          880.25  \n",
       "27         6100.50  \n",
       "28         2900.00  \n",
       "29          480.00  \n",
       "31          850.25  \n",
       "34          520.00  \n",
       "36          920.75  \n",
       "37         6700.00  \n",
       "38         3300.00  \n",
       "39          470.75  \n",
       "40         1280.50  \n",
       "41          870.25  \n",
       "43         2900.25  \n",
       "45         1125.25  \n",
       "47         6700.50  \n",
       "48         3100.00  "
      ]
     },
     "execution_count": 37,
     "metadata": {},
     "output_type": "execute_result"
    }
   ],
   "source": [
    "df.dropna()"
   ]
  },
  {
   "cell_type": "markdown",
   "id": "69db3378",
   "metadata": {},
   "source": [
    "## (1)"
   ]
  },
  {
   "cell_type": "code",
   "execution_count": 6,
   "id": "8706a9c4",
   "metadata": {},
   "outputs": [],
   "source": [
    "age = df['Age']"
   ]
  },
  {
   "cell_type": "code",
   "execution_count": 7,
   "id": "235d26ea",
   "metadata": {},
   "outputs": [
    {
     "data": {
      "text/plain": [
       "Text(0.5, 1.0, 'Distribution of Patient Ages')"
      ]
     },
     "execution_count": 7,
     "metadata": {},
     "output_type": "execute_result"
    },
    {
     "data": {
      "image/png": "[encoded data removed]",
      "text/plain": [
       "<Figure size 640x480 with 1 Axes>"
      ]
     },
     "metadata": {},
     "output_type": "display_data"
    }
   ],
   "source": [
    "plt.hist(age, color='black', width=4)\n",
    "plt.xlabel('Age')\n",
    "plt.ylabel('Frequency')\n",
    "plt.title('Distribution of Patient Ages')"
   ]
  },
  {
   "cell_type": "markdown",
   "id": "955623e7",
   "metadata": {},
   "source": [
    "## (2)"
   ]
  },
  {
   "cell_type": "code",
   "execution_count": 30,
   "id": "a189f142",
   "metadata": {},
   "outputs": [],
   "source": [
    "male_patients = df[df['Gender'] == \"Male\"].shape[0]"
   ]
  },
  {
   "cell_type": "code",
   "execution_count": 31,
   "id": "1480fd1f",
   "metadata": {},
   "outputs": [],
   "source": [
    "total_patients = df.shape[0]"
   ]
  },
  {
   "cell_type": "code",
   "execution_count": 32,
   "id": "6afc31fe",
   "metadata": {},
   "outputs": [
    {
     "data": {
      "text/plain": [
       "50.0"
      ]
     },
     "execution_count": 32,
     "metadata": {},
     "output_type": "execute_result"
    }
   ],
   "source": [
    "(male_patients / total_patients) * 100"
   ]
  },
  {
   "cell_type": "markdown",
   "id": "19a103ee",
   "metadata": {},
   "source": [
    "#### 50% of the patients in the dataset are male."
   ]
  },
  {
   "cell_type": "markdown",
   "id": "da1e05a6",
   "metadata": {},
   "source": [
    "## (3)"
   ]
  },
  {
   "cell_type": "code",
   "execution_count": 33,
   "id": "2533cd47",
   "metadata": {},
   "outputs": [
    {
     "data": {
      "text/plain": [
       "10"
      ]
     },
     "execution_count": 33,
     "metadata": {},
     "output_type": "execute_result"
    }
   ],
   "source": [
    "df[df['Diagnosis'] == \"Cancer\"].shape[0]"
   ]
  },
  {
   "cell_type": "markdown",
   "id": "766b1746",
   "metadata": {},
   "source": [
    "#### 10 patients have been diagnosed with Cancer."
   ]
  },
  {
   "cell_type": "markdown",
   "id": "369e3239",
   "metadata": {},
   "source": [
    "## (4)"
   ]
  },
  {
   "cell_type": "code",
   "execution_count": 38,
   "id": "0a689142",
   "metadata": {},
   "outputs": [],
   "source": [
    "age60 = df[df['Age'] >= 60]"
   ]
  },
  {
   "cell_type": "code",
   "execution_count": 39,
   "id": "fbce4325",
   "metadata": {},
   "outputs": [
    {
     "data": {
      "text/plain": [
       "2344.59375"
      ]
     },
     "execution_count": 39,
     "metadata": {},
     "output_type": "execute_result"
    }
   ],
   "source": [
    "age60['Treatment_Cost'].mean()"
   ]
  },
  {
   "cell_type": "markdown",
   "id": "b8ccceca",
   "metadata": {},
   "source": [
    "#### The average treatment cost for patients aged 60 and above is 2344.59."
   ]
  },
  {
   "cell_type": "markdown",
   "id": "331a3879",
   "metadata": {},
   "source": [
    "## (5)"
   ]
  },
  {
   "cell_type": "code",
   "execution_count": 11,
   "id": "173c3495",
   "metadata": {},
   "outputs": [
    {
     "data": {
      "text/html": [
       "<div>\n",
       "<style scoped>\n",
       "    .dataframe tbody tr th:only-of-type {\n",
       "        vertical-align: middle;\n",
       "    }\n",
       "\n",
       "    .dataframe tbody tr th {\n",
       "        vertical-align: top;\n",
       "    }\n",
       "\n",
       "    .dataframe thead th {\n",
       "        text-align: right;\n",
       "    }\n",
       "</style>\n",
       "<table border=\"1\" class=\"dataframe\">\n",
       "  <thead>\n",
       "    <tr style=\"text-align: right;\">\n",
       "      <th></th>\n",
       "      <th>Treatment_Cost</th>\n",
       "    </tr>\n",
       "    <tr>\n",
       "      <th>Blood_Type</th>\n",
       "      <th></th>\n",
       "    </tr>\n",
       "  </thead>\n",
       "  <tbody>\n",
       "    <tr>\n",
       "      <th>A+</th>\n",
       "      <td>3594.500000</td>\n",
       "    </tr>\n",
       "    <tr>\n",
       "      <th>A-</th>\n",
       "      <td>1470.300000</td>\n",
       "    </tr>\n",
       "    <tr>\n",
       "      <th>AB+</th>\n",
       "      <td>2232.687500</td>\n",
       "    </tr>\n",
       "    <tr>\n",
       "      <th>AB-</th>\n",
       "      <td>1923.833333</td>\n",
       "    </tr>\n",
       "    <tr>\n",
       "      <th>B+</th>\n",
       "      <td>860.250000</td>\n",
       "    </tr>\n",
       "    <tr>\n",
       "      <th>B-</th>\n",
       "      <td>860.750000</td>\n",
       "    </tr>\n",
       "    <tr>\n",
       "      <th>O+</th>\n",
       "      <td>2870.125000</td>\n",
       "    </tr>\n",
       "    <tr>\n",
       "      <th>O-</th>\n",
       "      <td>1935.250000</td>\n",
       "    </tr>\n",
       "  </tbody>\n",
       "</table>\n",
       "</div>"
      ],
      "text/plain": [
       "            Treatment_Cost\n",
       "Blood_Type                \n",
       "A+             3594.500000\n",
       "A-             1470.300000\n",
       "AB+            2232.687500\n",
       "AB-            1923.833333\n",
       "B+              860.250000\n",
       "B-              860.750000\n",
       "O+             2870.125000\n",
       "O-             1935.250000"
      ]
     },
     "execution_count": 11,
     "metadata": {},
     "output_type": "execute_result"
    }
   ],
   "source": [
    "df.groupby(['Blood_Type'])[['Treatment_Cost']].mean()"
   ]
  },
  {
   "cell_type": "markdown",
   "id": "2ab6632a",
   "metadata": {},
   "source": [
    "## (6)"
   ]
  },
  {
   "cell_type": "code",
   "execution_count": 44,
   "id": "d7a0cbbf",
   "metadata": {},
   "outputs": [],
   "source": [
    "average_cost = df.groupby(['Blood_Type'])[['Treatment_Cost']].mean()"
   ]
  },
  {
   "cell_type": "code",
   "execution_count": 52,
   "id": "1d056b75",
   "metadata": {},
   "outputs": [
    {
     "data": {
      "text/plain": [
       "Treatment_Cost    A+\n",
       "dtype: object"
      ]
     },
     "execution_count": 52,
     "metadata": {},
     "output_type": "execute_result"
    }
   ],
   "source": [
    "average_cost.idxmax()"
   ]
  },
  {
   "cell_type": "markdown",
   "id": "41f6a57b",
   "metadata": {},
   "source": [
    "#### The blood type with the highest average treatment cost is A+ blood."
   ]
  },
  {
   "cell_type": "markdown",
   "id": "a265ad36",
   "metadata": {},
   "source": [
    "## (7)"
   ]
  },
  {
   "cell_type": "code",
   "execution_count": 61,
   "id": "d65a9990",
   "metadata": {},
   "outputs": [
    {
     "data": {
      "text/html": [
       "<div>\n",
       "<style scoped>\n",
       "    .dataframe tbody tr th:only-of-type {\n",
       "        vertical-align: middle;\n",
       "    }\n",
       "\n",
       "    .dataframe tbody tr th {\n",
       "        vertical-align: top;\n",
       "    }\n",
       "\n",
       "    .dataframe thead th {\n",
       "        text-align: right;\n",
       "    }\n",
       "</style>\n",
       "<table border=\"1\" class=\"dataframe\">\n",
       "  <thead>\n",
       "    <tr style=\"text-align: right;\">\n",
       "      <th></th>\n",
       "      <th></th>\n",
       "      <th>Age</th>\n",
       "    </tr>\n",
       "    <tr>\n",
       "      <th>Gender</th>\n",
       "      <th>Diagnosis</th>\n",
       "      <th></th>\n",
       "    </tr>\n",
       "  </thead>\n",
       "  <tbody>\n",
       "    <tr>\n",
       "      <th rowspan=\"5\" valign=\"top\">Female</th>\n",
       "      <th>Asthma</th>\n",
       "      <td>47.666667</td>\n",
       "    </tr>\n",
       "    <tr>\n",
       "      <th>Cancer</th>\n",
       "      <td>55.333333</td>\n",
       "    </tr>\n",
       "    <tr>\n",
       "      <th>Diabetes</th>\n",
       "      <td>54.400000</td>\n",
       "    </tr>\n",
       "    <tr>\n",
       "      <th>Heart Disease</th>\n",
       "      <td>57.750000</td>\n",
       "    </tr>\n",
       "    <tr>\n",
       "      <th>Hypertension</th>\n",
       "      <td>45.250000</td>\n",
       "    </tr>\n",
       "    <tr>\n",
       "      <th rowspan=\"5\" valign=\"top\">Male</th>\n",
       "      <th>Asthma</th>\n",
       "      <td>49.000000</td>\n",
       "    </tr>\n",
       "    <tr>\n",
       "      <th>Cancer</th>\n",
       "      <td>44.500000</td>\n",
       "    </tr>\n",
       "    <tr>\n",
       "      <th>Diabetes</th>\n",
       "      <td>52.000000</td>\n",
       "    </tr>\n",
       "    <tr>\n",
       "      <th>Heart Disease</th>\n",
       "      <td>54.666667</td>\n",
       "    </tr>\n",
       "    <tr>\n",
       "      <th>Hypertension</th>\n",
       "      <td>39.166667</td>\n",
       "    </tr>\n",
       "  </tbody>\n",
       "</table>\n",
       "</div>"
      ],
      "text/plain": [
       "                            Age\n",
       "Gender Diagnosis               \n",
       "Female Asthma         47.666667\n",
       "       Cancer         55.333333\n",
       "       Diabetes       54.400000\n",
       "       Heart Disease  57.750000\n",
       "       Hypertension   45.250000\n",
       "Male   Asthma         49.000000\n",
       "       Cancer         44.500000\n",
       "       Diabetes       52.000000\n",
       "       Heart Disease  54.666667\n",
       "       Hypertension   39.166667"
      ]
     },
     "execution_count": 61,
     "metadata": {},
     "output_type": "execute_result"
    }
   ],
   "source": [
    "df.groupby(['Gender', 'Diagnosis'])[['Age']].mean()"
   ]
  }
 ],
 "metadata": {
  "kernelspec": {
   "display_name": "Python 3 (ipykernel)",
   "language": "python",
   "name": "python3"
  },
  "language_info": {
   "codemirror_mode": {
    "name": "ipython",
    "version": 3
   },
   "file_extension": ".py",
   "mimetype": "text/x-python",
   "name": "python",
   "nbconvert_exporter": "python",
   "pygments_lexer": "ipython3",
   "version": "3.11.4"
  }
 },
 "nbformat": 4,
 "nbformat_minor": 5
}
